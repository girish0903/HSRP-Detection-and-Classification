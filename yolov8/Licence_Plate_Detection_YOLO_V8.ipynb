{
  "cells": [
    {
      "cell_type": "code",
      "execution_count": 1,
      "metadata": {
        "colab": {
          "base_uri": "https://localhost:8080/"
        },
        "id": "pmM1dop72HfK",
        "outputId": "9b73ca6e-529e-46d2-a4d3-2206860c9279"
      },
      "outputs": [
        {
          "name": "stderr",
          "output_type": "stream",
          "text": [
            "Cloning into 'Licence-Plate-Detection-using-YOLO-V8'...\n"
          ]
        }
      ],
      "source": [
        "!git clone https://github.com/Arijit1080/Licence-Plate-Detection-using-YOLO-V8.git"
      ]
    },
    {
      "cell_type": "code",
      "execution_count": 2,
      "metadata": {
        "colab": {
          "base_uri": "https://localhost:8080/"
        },
        "id": "TotCpH174BPu",
        "outputId": "f0704171-0d10-4cbe-b176-ae4dbadb1f51"
      },
      "outputs": [
        {
          "name": "stdout",
          "output_type": "stream",
          "text": [
            "D:\\yolov8\n"
          ]
        }
      ],
      "source": [
        "cd D:/yolov8/"
      ]
    },
    {
      "cell_type": "code",
      "execution_count": 7,
      "metadata": {
        "colab": {
          "base_uri": "https://localhost:8080/"
        },
        "id": "i7nQY2yu4Ee3",
        "outputId": "6126a584-664d-456e-8679-e19fdd1332fd"
      },
      "outputs": [
        {
          "name": "stderr",
          "output_type": "stream",
          "text": [
            "WARNING: Skipping C:\\Users\\gbada\\miniconda3\\Lib\\site-packages\\numpy-1.26.2.dist-info due to invalid metadata entry 'name'\n",
            "WARNING: Skipping C:\\Users\\gbada\\miniconda3\\Lib\\site-packages\\numpy-1.26.2.dist-info due to invalid metadata entry 'name'\n",
            "WARNING: Skipping C:\\Users\\gbada\\miniconda3\\Lib\\site-packages\\numpy-1.26.2.dist-info due to invalid metadata entry 'name'\n",
            "WARNING: Skipping C:\\Users\\gbada\\miniconda3\\Lib\\site-packages\\numpy-1.26.2.dist-info due to invalid metadata entry 'name'\n",
            "WARNING: Skipping C:\\Users\\gbada\\miniconda3\\Lib\\site-packages\\numpy-1.26.2.dist-info due to invalid metadata entry 'name'\n",
            "WARNING: Skipping C:\\Users\\gbada\\miniconda3\\Lib\\site-packages\\numpy-1.26.2.dist-info due to invalid metadata entry 'name'\n"
          ]
        },
        {
          "name": "stdout",
          "output_type": "stream",
          "text": [
            "Requirement already satisfied: roboflow in c:\\users\\gbada\\miniconda3\\lib\\site-packages (1.1.26)\n",
            "Requirement already satisfied: certifi==2023.7.22 in c:\\users\\gbada\\miniconda3\\lib\\site-packages (from roboflow) (2023.7.22)\n",
            "Requirement already satisfied: chardet==4.0.0 in c:\\users\\gbada\\miniconda3\\lib\\site-packages (from roboflow) (4.0.0)\n",
            "Requirement already satisfied: cycler==0.10.0 in c:\\users\\gbada\\miniconda3\\lib\\site-packages (from roboflow) (0.10.0)\n",
            "Requirement already satisfied: idna==2.10 in c:\\users\\gbada\\miniconda3\\lib\\site-packages (from roboflow) (2.10)\n",
            "Requirement already satisfied: kiwisolver>=1.3.1 in c:\\users\\gbada\\miniconda3\\lib\\site-packages (from roboflow) (1.4.5)\n",
            "Requirement already satisfied: matplotlib in c:\\users\\gbada\\miniconda3\\lib\\site-packages (from roboflow) (3.8.0)\n",
            "Requirement already satisfied: numpy>=1.18.5 in c:\\users\\gbada\\miniconda3\\lib\\site-packages (from roboflow) (1.24.3)\n",
            "Requirement already satisfied: opencv-python-headless==4.8.0.74 in c:\\users\\gbada\\miniconda3\\lib\\site-packages (from roboflow) (4.8.0.74)\n",
            "Requirement already satisfied: Pillow>=7.1.2 in c:\\users\\gbada\\miniconda3\\lib\\site-packages (from roboflow) (10.0.1)\n",
            "Requirement already satisfied: python-dateutil in c:\\users\\gbada\\miniconda3\\lib\\site-packages (from roboflow) (2.8.2)\n",
            "Requirement already satisfied: python-dotenv in c:\\users\\gbada\\miniconda3\\lib\\site-packages (from roboflow) (1.0.1)\n",
            "Requirement already satisfied: requests in c:\\users\\gbada\\miniconda3\\lib\\site-packages (from roboflow) (2.31.0)\n",
            "Requirement already satisfied: six in c:\\users\\gbada\\miniconda3\\lib\\site-packages (from roboflow) (1.16.0)\n",
            "Requirement already satisfied: urllib3>=1.26.6 in c:\\users\\gbada\\miniconda3\\lib\\site-packages (from roboflow) (1.26.16)\n",
            "Requirement already satisfied: tqdm>=4.41.0 in c:\\users\\gbada\\miniconda3\\lib\\site-packages (from roboflow) (4.65.0)\n",
            "Requirement already satisfied: PyYAML>=5.3.1 in c:\\users\\gbada\\miniconda3\\lib\\site-packages (from roboflow) (6.0.1)\n",
            "Requirement already satisfied: requests-toolbelt in c:\\users\\gbada\\miniconda3\\lib\\site-packages (from roboflow) (1.0.0)\n",
            "Requirement already satisfied: python-magic in c:\\users\\gbada\\miniconda3\\lib\\site-packages (from roboflow) (0.4.27)\n",
            "Requirement already satisfied: colorama in c:\\users\\gbada\\miniconda3\\lib\\site-packages (from tqdm>=4.41.0->roboflow) (0.4.6)\n",
            "Requirement already satisfied: contourpy>=1.0.1 in c:\\users\\gbada\\miniconda3\\lib\\site-packages (from matplotlib->roboflow) (1.1.1)\n",
            "Requirement already satisfied: fonttools>=4.22.0 in c:\\users\\gbada\\miniconda3\\lib\\site-packages (from matplotlib->roboflow) (4.42.1)\n",
            "Requirement already satisfied: packaging>=20.0 in c:\\users\\gbada\\miniconda3\\lib\\site-packages (from matplotlib->roboflow) (23.2)\n",
            "Requirement already satisfied: pyparsing>=2.3.1 in c:\\users\\gbada\\miniconda3\\lib\\site-packages (from matplotlib->roboflow) (3.1.1)\n",
            "Requirement already satisfied: charset-normalizer<4,>=2 in c:\\users\\gbada\\miniconda3\\lib\\site-packages (from requests->roboflow) (2.0.4)\n",
            "loading Roboflow workspace...\n",
            "loading Roboflow project...\n",
            "Dependency ultralytics==8.0.196 is required but found version=8.0.3, to fix: `pip install ultralytics==8.0.196`\n"
          ]
        },
        {
          "name": "stderr",
          "output_type": "stream",
          "text": [
            "Downloading Dataset Version Zip in yolo-2 to yolov8:: 100%|██████████| 19070/19070 [00:03<00:00, 6155.55it/s] "
          ]
        },
        {
          "name": "stdout",
          "output_type": "stream",
          "text": [
            "\n"
          ]
        },
        {
          "name": "stderr",
          "output_type": "stream",
          "text": [
            "\n",
            "Extracting Dataset Version Zip to yolo-2 in yolov8:: 100%|██████████| 744/744 [00:00<00:00, 2324.65it/s]\n"
          ]
        }
      ],
      "source": [
        "!pip install roboflow\n",
        "\n",
        "from roboflow import Roboflow\n",
        "rf = Roboflow(api_key=\"JLzEcwN1NAlBM6FLYmnP\")\n",
        "project = rf.workspace(\"object-r4gzx\").project(\"yolo-nirig\")\n",
        "version = project.version(2)\n",
        "dataset = version.download(\"yolov8\")\n"
      ]
    },
    {
      "cell_type": "code",
      "execution_count": null,
      "metadata": {
        "colab": {
          "base_uri": "https://localhost:8080/"
        },
        "id": "qd0UgEnF5KH8",
        "outputId": "c3d43da3-c07e-42f9-cff9-a8545d85d46c"
      },
      "outputs": [],
      "source": [
        "!pip install -r requirements.txt"
      ]
    },
    {
      "cell_type": "code",
      "execution_count": null,
      "metadata": {
        "colab": {
          "base_uri": "https://localhost:8080/"
        },
        "id": "dK5DpY9D5iiu",
        "outputId": "19656201-2be9-42d4-d0bf-82645a0c8f03"
      },
      "outputs": [],
      "source": [
        "!python /yolov8/Licence-Plate-Detection-using-YOLO-V8/ultralytics/yolo/v8/detect/train.py model=yolov8n.pt data=Objectt-1/data.yaml epochs=1"
      ]
    },
    {
      "cell_type": "code",
      "execution_count": null,
      "metadata": {
        "colab": {
          "base_uri": "https://localhost:8080/"
        },
        "id": "XFSS5xzGYszt",
        "outputId": "38208546-5296-40c5-cf14-2f9f87184f34"
      },
      "outputs": [],
      "source": [
        "!python Licence-Plate-Detection-using-YOLO-V8/ultralytics/yolo/v8/detect/predict.py model='runs/detect/train2/weights/best.pt' source='Objectt-1/train/images/IMG_4938_JPG.rf.0e527c2e327be3f0a8c0b5864ea8f621.jpg'"
      ]
    },
    {
      "cell_type": "code",
      "execution_count": null,
      "metadata": {},
      "outputs": [],
      "source": []
    }
  ],
  "metadata": {
    "accelerator": "GPU",
    "colab": {
      "gpuType": "T4",
      "provenance": []
    },
    "kernelspec": {
      "display_name": "Python 3",
      "name": "python3"
    },
    "language_info": {
      "codemirror_mode": {
        "name": "ipython",
        "version": 3
      },
      "file_extension": ".py",
      "mimetype": "text/x-python",
      "name": "python",
      "nbconvert_exporter": "python",
      "pygments_lexer": "ipython3",
      "version": "3.9.13"
    }
  },
  "nbformat": 4,
  "nbformat_minor": 0
}
